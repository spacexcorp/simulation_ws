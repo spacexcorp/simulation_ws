{
 "cells": [
  {
   "cell_type": "markdown",
   "metadata": {},
   "source": [
    "# <font color='orange'>PAL Robotics TALOS ROSject</font>"
   ]
  },
  {
   "cell_type": "markdown",
   "metadata": {},
   "source": [
    "<img src=\"images/pal_logo.jpg\"/>"
   ]
  },
  {
   "cell_type": "markdown",
   "metadata": {
    "collapsed": true
   },
   "source": [
    "First of all we would like to **THANK** <a href=\"https://www.pal-robotics.com/en/home/\">Pal Robotics</a> for making this ROSject possible. Please consider checking their great robots, you will be amazed by the great work of their team."
   ]
  },
  {
   "cell_type": "markdown",
   "metadata": {},
   "source": [
    "Pal robotics has a long history of humanoid robots creation:"
   ]
  },
  {
   "cell_type": "markdown",
   "metadata": {},
   "source": [
    "<img src=\"images/pal-robotics-interview-questions.jpg\"/>"
   ]
  },
  {
   "cell_type": "markdown",
   "metadata": {},
   "source": [
    "In this ROSject  you will find a simulation of their **latest and grates** walking humanoid robot called **TALOS**.\n",
    "With it you will be able to work the closest thing you can get to the real TALOS. If you can make it work in this ROSject, you will most likely be able to do it in the real robot."
   ]
  },
  {
   "cell_type": "markdown",
   "metadata": {},
   "source": [
    "<img src=\"images/talos_bow.gif\"/>"
   ]
  },
  {
   "cell_type": "markdown",
   "metadata": {},
   "source": [
    "So **have a go at it** and if you like it, please contact **Pal Robotics** for purchasing the real robot! Is that simple!"
   ]
  },
  {
   "cell_type": "markdown",
   "metadata": {},
   "source": [
    "## <font color='orange'>Start the Simulation of TALOS</font>"
   ]
  },
  {
   "cell_type": "markdown",
   "metadata": {},
   "source": [
    "The easiest way is to use the **Simulations** tab on the top to launch it automaticaly and have one Webshell less running on the background:"
   ]
  },
  {
   "cell_type": "markdown",
   "metadata": {},
   "source": [
    "<img src=\"images/launchsim_step1.png\"/>"
   ]
  },
  {
   "cell_type": "markdown",
   "metadata": {},
   "source": [
    "<img src=\"images/launchsim_step2.png\"/>"
   ]
  },
  {
   "cell_type": "markdown",
   "metadata": {},
   "source": [
    "And you should get something like this:"
   ]
  },
  {
   "cell_type": "markdown",
   "metadata": {},
   "source": [
    "<img src=\"images/talos_sim_v2.png\"/>"
   ]
  },
  {
   "cell_type": "markdown",
   "metadata": {},
   "source": [
    "## <font color='orange'>MAKE gestures</font>"
   ]
  },
  {
   "cell_type": "markdown",
   "metadata": {},
   "source": [
    "Let's send to the robot some commands to make it perform gestures. Remember that the ROS interface you can see here is the same interface for the real robot."
   ]
  },
  {
   "cell_type": "markdown",
   "metadata": {},
   "source": [
    "Open a Webshell to start launching commands. For that, go to the top menu and press **Tools->Shell**. A new window with a Linux shell will open."
   ]
  },
  {
   "cell_type": "markdown",
   "metadata": {},
   "source": [
    "### STEP1: Get the Controllers up and running"
   ]
  },
  {
   "cell_type": "markdown",
   "metadata": {},
   "source": [
    "These controllers have to be launched if you want the robot to only move the hands and head. Type on the shell:"
   ]
  },
  {
   "cell_type": "code",
   "execution_count": null,
   "metadata": {},
   "outputs": [],
   "source": [
    "# We source the Pal Robotics Environment\n",
    "$ roslaunch talos_controller_configuration position_controllers.launch"
   ]
  },
  {
   "cell_type": "markdown",
   "metadata": {
    "collapsed": true
   },
   "source": [
    "### STEP2: Get the list of Motions Available"
   ]
  },
  {
   "cell_type": "markdown",
   "metadata": {},
   "source": [
    "Open another shell and execute this command to get the list of gestures:"
   ]
  },
  {
   "cell_type": "code",
   "execution_count": null,
   "metadata": {
    "collapsed": true
   },
   "outputs": [],
   "source": [
    "$ rosparam list /play_motion/motions | grep joints | cut -d'/' -f4"
   ]
  },
  {
   "cell_type": "code",
   "execution_count": null,
   "metadata": {
    "collapsed": true
   },
   "outputs": [],
   "source": [
    "alive_left_stretch\n",
    "alive_look\n",
    "alive_look_around\n",
    "alive_right_stretch\n",
    "alive_waiting_1\n",
    "alive_waiting_2\n",
    "alive_waiting_3\n",
    "alive_wiggle_gripper\n",
    "alive_wrists\n",
    "arms_t\n",
    "bow\n",
    "center_head\n",
    "close_both_grippers\n",
    "close_left_gripper\n",
    "close_right_gripper\n",
    "double_bow\n",
    "egyptian\n",
    "hands_front\n",
    "hands_front_lift\n",
    "hands_up\n",
    "home\n",
    "home_legs\n",
    "interact\n",
    "italian\n",
    "lift_weights\n",
    "look_around\n",
    "look_nod\n",
    "move_wrists\n",
    "nod\n",
    "open_both_grippers\n",
    "open_left_gripper\n",
    "open_right_gripper\n",
    "point_head_chest\n",
    "point_to_chest\n",
    "push_walls\n",
    "reset_ft_wrist_pose\n",
    "right_arm_forward\n",
    "show_battery\n",
    "small_squat\n",
    "squat\n",
    "test_arm_left\n",
    "test_arm_right\n",
    "test_head\n",
    "walk_pose\n",
    "wave\n",
    "wave_both_arms\n",
    "wave_left"
   ]
  },
  {
   "cell_type": "markdown",
   "metadata": {},
   "source": [
    "### STEP3: Execute a motion"
   ]
  },
  {
   "cell_type": "markdown",
   "metadata": {},
   "source": [
    "Once you have started the **position_controllers.launch**, in another webshell you launch the movement you want to be executed from the list that we extracted in the previous step:"
   ]
  },
  {
   "cell_type": "code",
   "execution_count": null,
   "metadata": {
    "collapsed": true
   },
   "outputs": [],
   "source": [
    "$ rosrun play_motion run_motion MOTION_NAME"
   ]
  },
  {
   "cell_type": "markdown",
   "metadata": {},
   "source": [
    "For example lets make TALOS wave:"
   ]
  },
  {
   "cell_type": "code",
   "execution_count": null,
   "metadata": {
    "collapsed": true
   },
   "outputs": [],
   "source": [
    "$ rosrun play_motion run_motion wave"
   ]
  },
  {
   "cell_type": "markdown",
   "metadata": {},
   "source": [
    "You should get something like this. The speed depends on the susbcription plan you have of ROSDS. Higher performance subscriptions will have faster simulations, free susbcriptions use two cores machines so they will go slower."
   ]
  },
  {
   "cell_type": "markdown",
   "metadata": {},
   "source": [
    "<img src=\"images/talos_wave.gif\"/>"
   ]
  },
  {
   "cell_type": "markdown",
   "metadata": {},
   "source": [
    "## <font color='orange'>Make it Walk</font>"
   ]
  },
  {
   "cell_type": "markdown",
   "metadata": {},
   "source": [
    "To make it walk we have again to start the controllers fro **WALKING**, not the same ones for making gestures. And after start the walking system. This walking system was developed entirely by <a href=\"https://www.pal-robotics.com/en/home/\">Pal Robotics</a>."
   ]
  },
  {
   "cell_type": "markdown",
   "metadata": {},
   "source": [
    "### STEP0 : STOP the position controlers launch first"
   ]
  },
  {
   "cell_type": "markdown",
   "metadata": {},
   "source": [
    "Self explanatory, stop the previous launch if you havent."
   ]
  },
  {
   "cell_type": "markdown",
   "metadata": {},
   "source": [
    "### STEP1 : Start the talos_dcm_walking_controller"
   ]
  },
  {
   "cell_type": "code",
   "execution_count": null,
   "metadata": {
    "collapsed": true
   },
   "outputs": [],
   "source": [
    "# We source the Pal Robotics Environment\n",
    "#Start Walking controller\n",
    "$ roslaunch talos_pal_locomotion talos_dcm_walking_controller.launch"
   ]
  },
  {
   "cell_type": "markdown",
   "metadata": {},
   "source": [
    "Talos should get in walking pose:"
   ]
  },
  {
   "cell_type": "markdown",
   "metadata": {},
   "source": [
    "<img src=\"images/Screenshot from 2019-03-21 17-38-18.png\"/>"
   ]
  },
  {
   "cell_type": "markdown",
   "metadata": {},
   "source": [
    "### STEP2 : Start walking and walking-control-GUI"
   ]
  },
  {
   "cell_type": "code",
   "execution_count": null,
   "metadata": {
    "collapsed": true
   },
   "outputs": [],
   "source": [
    "# We source the Pal Robotics Environment\n",
    "#Start walking\n",
    "$ rosrun pal_locomotion_dcm_planner start_walking_continious_dcm -p Cubic -s Zero -a false -t false\n",
    "#Start GUI for sending velocity commands\n",
    "$ roslaunch talos_pal_locomotion rqt_talos_steering.launch"
   ]
  },
  {
   "cell_type": "markdown",
   "metadata": {},
   "source": [
    "In order to see the rqt window to control the robot speed, you need to go to the Graphical Tools window. Open the **Graphical Tools** through the **Tools** menu:"
   ]
  },
  {
   "cell_type": "markdown",
   "metadata": {},
   "source": [
    "<img src=\"images/Screenshot from 2019-03-21 17-37-35.png\"/>"
   ]
  },
  {
   "cell_type": "markdown",
   "metadata": {},
   "source": [
    "After 30 seconds of launching the STEP2 launch commands, you should see the Walking GUI appear in the **Graphical Tools Window**. Play around with the forward, back, left and right speeds and see TALOS walk in all directions and speeds:"
   ]
  },
  {
   "cell_type": "markdown",
   "metadata": {},
   "source": [
    "<img src=\"images/walking_talos.png\"/>"
   ]
  },
  {
   "cell_type": "markdown",
   "metadata": {},
   "source": [
    "<img src=\"images/walking_slow.gif\"/>"
   ]
  },
  {
   "cell_type": "markdown",
   "metadata": {},
   "source": [
    "<img src=\"images/walking_fast.gif\"/>"
   ]
  },
  {
   "cell_type": "markdown",
   "metadata": {},
   "source": [
    "Remember that you can check the code of the simulation by using the integrated IDE. Go to **Tools->IDE**. The simulation data is included in the *simulation_ws*."
   ]
  },
  {
   "cell_type": "markdown",
   "metadata": {},
   "source": [
    "<img src=\"images/IDE.png\"/>"
   ]
  },
  {
   "cell_type": "markdown",
   "metadata": {},
   "source": [
    "## So we would love to see what you guys can do with **TALOS**. DeepLearning? Complex Grasping? The sky is the limit!"
   ]
  },
  {
   "cell_type": "markdown",
   "metadata": {},
   "source": [
    "# <font color='orange'>Thanks again to PAL Robotics to making this possible</font>"
   ]
  },
  {
   "cell_type": "markdown",
   "metadata": {},
   "source": [
    "<img src=\"images/pal_logo.jpg\"/>"
   ]
  }
 ],
 "metadata": {
  "kernelspec": {
   "display_name": "Python 2",
   "language": "python",
   "name": "python2"
  },
  "language_info": {
   "codemirror_mode": {
    "name": "ipython",
    "version": 2
   },
   "file_extension": ".py",
   "mimetype": "text/x-python",
   "name": "python",
   "nbconvert_exporter": "python",
   "pygments_lexer": "ipython2",
   "version": "2.7.16"
  }
 },
 "nbformat": 4,
 "nbformat_minor": 1
}
